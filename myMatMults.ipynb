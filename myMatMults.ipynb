{
  "nbformat": 4,
  "nbformat_minor": 0,
  "metadata": {
    "colab": {
      "provenance": [],
      "authorship_tag": "ABX9TyM5R/qQ904F2uyr4YxpgolS",
      "include_colab_link": true
    },
    "kernelspec": {
      "name": "python3",
      "display_name": "Python 3"
    },
    "language_info": {
      "name": "python"
    }
  },
  "cells": [
    {
      "cell_type": "markdown",
      "metadata": {
        "id": "view-in-github",
        "colab_type": "text"
      },
      "source": [
        "<a href=\"https://colab.research.google.com/github/tleitchColumbia/hw1/blob/main/myMatMults.ipynb\" target=\"_parent\"><img src=\"https://colab.research.google.com/assets/colab-badge.svg\" alt=\"Open In Colab\"/></a>"
      ]
    },
    {
      "cell_type": "code",
      "execution_count": 13,
      "metadata": {
        "colab": {
          "base_uri": "https://localhost:8080/"
        },
        "id": "SMC-bUUN9-gj",
        "outputId": "733274a8-efe0-4ee0-c4a5-b07bc9a86efa"
      },
      "outputs": [
        {
          "output_type": "stream",
          "name": "stdout",
          "text": [
            "3\n",
            "3\n"
          ]
        }
      ],
      "source": [
        "# -*- coding: utf-8 -*-\n",
        "def myMatMult1zip(v1,v2):\n",
        "\n",
        "# this function multiplies two vectors to get the dot product which is the same as multiply a\n",
        "# vector times a matrix column\n",
        "\n",
        "  lenV=len(v1)\n",
        "\n",
        "  if(lenV != len(v2)): return(\"ERROR length mismatch\")\n",
        "\n",
        "  dot=0\n",
        "  for x1,x2 in zip(v1,v2):\n",
        "    dot += x1*x2\n",
        "\n",
        "  return(dot)\n",
        "\n",
        "\n",
        "\n",
        "\n",
        "v1=[1,2,3]\n",
        "v2=[1,4,7]\n",
        "\n",
        "myMatMult1zip(v1,v2)\n",
        "\n",
        "\n",
        "\n",
        "def myMatMult1(v1,v2):\n",
        "\n",
        "# this function multiplies two vectors to get the dot product which is the same as multiply a\n",
        "# vector times a matrix column\n",
        "\n",
        "  lenV=len(v1)\n",
        "  if(lenV != len(v2)): return(\"ERROR length mismatch\")\n",
        "\n",
        "  dot=0\n",
        "  for i in range(lenV):\n",
        "    dot += v1[i]*v2[i]\n",
        "\n",
        "  return(dot)\n",
        "\n",
        "\n",
        "\n",
        "\n",
        "v1=[1,2,3]\n",
        "v2=[1,4,7]\n",
        "\n",
        "myMatMult1(v1,v2)\n",
        "\n",
        "\n",
        "\n",
        "\n",
        "# myMatMult2 this week uses \"lists\" to do matrix math. This is a\n",
        "# pain and next week we'll introduce numpy with all kinds of great\n",
        "# matrix features\n",
        "\n",
        "def myMatMult2(vec,mtrx):\n",
        "\n",
        "  lenV=len(vec)\n",
        "  nrow=len(mtrx)\n",
        "  if(lenV != nrow): return(\"ERROR length mismatch\")\n",
        "  print(nrow)\n",
        "\n",
        "  ncol=len(mtrx[0])\n",
        "  print(ncol)\n",
        "\n",
        "  # loop over columns and then rows\n",
        "\n",
        "\n",
        "  return\n",
        "\n",
        "\n",
        "\n",
        "# data to run\n",
        "vector=[1,2,3]\n",
        "mtrx= [[1,2,3],[4,5,6],[7,8,9]]\n",
        "\n",
        "myMatMult2(vector,mtrx)\n"
      ]
    }
  ]
}