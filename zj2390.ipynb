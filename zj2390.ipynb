{
  "nbformat": 4,
  "nbformat_minor": 0,
  "metadata": {
    "colab": {
      "provenance": [],
      "toc_visible": true,
      "authorship_tag": "ABX9TyN6IgJxWkgO/uweB/scWHgL",
      "include_colab_link": true
    },
    "kernelspec": {
      "name": "python3",
      "display_name": "Python 3"
    },
    "language_info": {
      "name": "python"
    }
  },
  "cells": [
    {
      "cell_type": "markdown",
      "metadata": {
        "id": "view-in-github",
        "colab_type": "text"
      },
      "source": [
        "<a href=\"https://colab.research.google.com/github/zj2390/hw1/blob/main/zj2390.ipynb\" target=\"_parent\"><img src=\"https://colab.research.google.com/assets/colab-badge.svg\" alt=\"Open In Colab\"/></a>"
      ]
    },
    {
      "cell_type": "markdown",
      "source": [
        "Question 1 WhoAmI"
      ],
      "metadata": {
        "id": "kfZGamme686j"
      }
    },
    {
      "cell_type": "code",
      "source": [
        "# Identify yourself for grading\n",
        "\n",
        "def WhoAmI():\n",
        "  return('zj2390')"
      ],
      "metadata": {
        "id": "ifHiQSpc6cP5"
      },
      "execution_count": null,
      "outputs": []
    },
    {
      "cell_type": "markdown",
      "source": [
        "Question 2 getBondPrice"
      ],
      "metadata": {
        "id": "RfGEOyYZ7Cjt"
      }
    },
    {
      "cell_type": "code",
      "execution_count": null,
      "metadata": {
        "colab": {
          "base_uri": "https://localhost:8080/"
        },
        "id": "Sh2srtvnu240",
        "outputId": "15b901e0-4fad-448f-b452-5d89c8c9b9c0"
      },
      "outputs": [
        {
          "output_type": "stream",
          "name": "stdout",
          "text": [
            "Bond Price (ppy=1): 2170604.0567355165\n",
            "Bond Price (ppy=2): 2171686.387850823\n",
            "Bond Price (ppy=2): 2170604.0567355165\n"
          ]
        }
      ],
      "source": [
        "def getBondPrice(y, face, couponRate, m, ppy=1):\n",
        "    r = y / ppy\n",
        "    N = m * ppy\n",
        "    coupon = (face * couponRate) / ppy\n",
        "\n",
        "    bondPrice = 0\n",
        "    for t in range(1, N + 1):\n",
        "        bondPrice += coupon / (1 + r) ** t\n",
        "\n",
        "    bondPrice += face / (1 + r) ** N\n",
        "\n",
        "    return bondPrice\n",
        "\n",
        "\n",
        "y = 0.03\n",
        "face = 2000000\n",
        "couponRate = 0.04\n",
        "m = 10\n",
        "\n",
        "\n",
        "print(\"Bond Price (ppy=1):\", getBondPrice(y, face, couponRate, m, ppy=1))\n",
        "print(\"Bond Price (ppy=2):\", getBondPrice(y, face, couponRate, m, ppy=2))\n",
        "print(\"Bond Price (ppy=2):\", getBondPrice(y, face, couponRate, m))"
      ]
    },
    {
      "cell_type": "code",
      "source": [
        "y = 0.03\n",
        "face = 2000000\n",
        "couponRate = 0.04\n",
        "m = 10\n",
        "ppy = 2\n",
        "\n",
        "\n",
        "print(\"Bond Price (ppy=2):\", getBondPrice(y, face, couponRate, m, ppy=ppy))"
      ],
      "metadata": {
        "colab": {
          "base_uri": "https://localhost:8080/"
        },
        "id": "lg4HSFFK0gOX",
        "outputId": "a6541833-056e-438b-aec4-a914eff1869f"
      },
      "execution_count": null,
      "outputs": [
        {
          "output_type": "stream",
          "name": "stdout",
          "text": [
            "Bond Price (ppy=2): 2171686.387850823\n"
          ]
        }
      ]
    },
    {
      "cell_type": "markdown",
      "source": [
        "Question 3 getBondDuration"
      ],
      "metadata": {
        "id": "EEOPlWeK6arG"
      }
    },
    {
      "cell_type": "code",
      "source": [
        "def getBondDuration(y, face, couponRate, m, ppy=1):\n",
        "    r = y / ppy\n",
        "    N = m * ppy\n",
        "    coupon = (face * couponRate) / ppy\n",
        "\n",
        "    bondPrice = 0\n",
        "    weightedCashFlow = 0\n",
        "\n",
        "    for t in range(1, N + 1):\n",
        "        pv = coupon / (1 + r) ** t\n",
        "        bondPrice += pv\n",
        "        weightedCashFlow += t * pv\n",
        "\n",
        "    pv_face = face / (1 + r) ** N\n",
        "    bondPrice += pv_face\n",
        "    weightedCashFlow += N * pv_face\n",
        "\n",
        "    bondDuration = weightedCashFlow / bondPrice\n",
        "    bondDuration /= ppy\n",
        "\n",
        "    return bondDuration\n",
        "\n",
        "\n",
        "y = 0.03\n",
        "face = 2000000\n",
        "couponRate = 0.04\n",
        "m = 10\n",
        "\n",
        "\n",
        "print(\"Bond Duration (ppy=1):\", getBondDuration(y, face, couponRate, m, ppy=1))\n",
        "print(\"Bond Duration (ppy=2):\", getBondDuration(y, face, couponRate, m, ppy=2))\n",
        "print(\"Bond Duration (ppy=4):\", getBondDuration(y, face, couponRate, m, ppy=4))"
      ],
      "metadata": {
        "colab": {
          "base_uri": "https://localhost:8080/"
        },
        "id": "D2Q_azHs7SDr",
        "outputId": "0286e1d5-7947-4c7f-e636-2f2fe734bc4e"
      },
      "execution_count": null,
      "outputs": [
        {
          "output_type": "stream",
          "name": "stdout",
          "text": [
            "Bond Duration (ppy=1): 8.508690304459574\n",
            "Bond Duration (ppy=2): 8.419764690678013\n",
            "Bond Duration (ppy=4): 8.375034539107151\n"
          ]
        }
      ]
    },
    {
      "cell_type": "markdown",
      "source": [
        "Question 4 getBondPrice_E"
      ],
      "metadata": {
        "id": "X03aKWX2-IXU"
      }
    },
    {
      "cell_type": "code",
      "source": [
        "def getBondPrice_E(face, couponRate, m, yc):\n",
        "    \"\"\"\n",
        "    Calculate bond price using a yield curve (yc).\n",
        "    yc is a list where each element represents the yield for that period.\n",
        "    \"\"\"\n",
        "    coupon = face * couponRate\n",
        "    bondPrice = 0\n",
        "\n",
        "\n",
        "    for t, rate in enumerate(yc, start=1):\n",
        "        pv = coupon / (1 + rate) ** t\n",
        "        bondPrice += pv\n",
        "\n",
        "\n",
        "    bondPrice += face / (1 + yc[-1]) ** m\n",
        "\n",
        "    return bondPrice\n",
        "\n",
        "\n",
        "yc = [0.010, 0.015, 0.020, 0.025, 0.030]\n",
        "face = 2000000\n",
        "couponRate = 0.04\n",
        "m = 5\n",
        "\n",
        "\n",
        "bond_price = getBondPrice_E(face, couponRate, m, yc)\n",
        "print(f\"Bond Price: ${bond_price:,.2f}\")"
      ],
      "metadata": {
        "colab": {
          "base_uri": "https://localhost:8080/"
        },
        "id": "P8d6QiVX-NB9",
        "outputId": "da1bce44-2bbd-4997-e60c-7345b20a6cc7"
      },
      "execution_count": null,
      "outputs": [
        {
          "output_type": "stream",
          "name": "stdout",
          "text": [
            "Bond Price: $2,098,948.97\n"
          ]
        }
      ]
    },
    {
      "cell_type": "markdown",
      "source": [
        "Question 5 getBondPrice_Z"
      ],
      "metadata": {
        "id": "fcJeLBaZCI-M"
      }
    },
    {
      "cell_type": "code",
      "source": [
        "def getBondPrice_Z(face, couponRate, times, yc):\n",
        "    \"\"\"\n",
        "    Calculate bond price using yield curve and time periods.\n",
        "    `times` and `yc` must be of equal length.\n",
        "    \"\"\"\n",
        "    coupon = face * couponRate\n",
        "    bondPrice = 0\n",
        "\n",
        "\n",
        "    for t, rate in zip(times, yc):\n",
        "        pv = coupon / (1 + rate) ** t\n",
        "        bondPrice += pv\n",
        "\n",
        "\n",
        "    bondPrice += face / (1 + yc[-1]) ** times[-1]\n",
        "\n",
        "    return bondPrice\n",
        "\n",
        "# 测试数据\n",
        "yc = [0.010, 0.015, 0.020, 0.025, 0.030]\n",
        "times = [1, 1.5, 3, 4, 7]\n",
        "face = 2000000\n",
        "couponRate = 0.04\n",
        "\n",
        "\n",
        "bond_price = getBondPrice_Z(face, couponRate, times, yc)\n",
        "print(f\"Bond Price: ${bond_price:,.2f}\")"
      ],
      "metadata": {
        "colab": {
          "base_uri": "https://localhost:8080/"
        },
        "id": "KLdzaPKSCSsz",
        "outputId": "ec01c4de-066b-411e-cba5-b1d13a28ba87"
      },
      "execution_count": null,
      "outputs": [
        {
          "output_type": "stream",
          "name": "stdout",
          "text": [
            "Bond Price: $1,996,533.27\n"
          ]
        }
      ]
    },
    {
      "cell_type": "markdown",
      "source": [
        "Question 6 FizzBuzz"
      ],
      "metadata": {
        "id": "Q-ZLDTQwFcZ1"
      }
    },
    {
      "cell_type": "code",
      "source": [
        "def FizzBuzz(start, finish):\n",
        "    outlist = []\n",
        "    for i in range(start, finish + 1):\n",
        "        if i % 3 == 0 and i % 5 == 0:\n",
        "            outlist.append(\"fizzbuzz\")\n",
        "        elif i % 3 == 0:\n",
        "            outlist.append(\"fizz\")\n",
        "        elif i % 5 == 0:\n",
        "            outlist.append(\"buzz\")\n",
        "        else:\n",
        "            outlist.append(i)\n",
        "\n",
        "    return outlist\n",
        "\n",
        "\n",
        "result = FizzBuzz(1, 15)\n",
        "for item in result:\n",
        "    print(item)"
      ],
      "metadata": {
        "colab": {
          "base_uri": "https://localhost:8080/"
        },
        "id": "LENyiM5hFZhO",
        "outputId": "6b935c5d-7795-4749-8afe-b6f9dc667d34"
      },
      "execution_count": null,
      "outputs": [
        {
          "output_type": "stream",
          "name": "stdout",
          "text": [
            "1\n",
            "2\n",
            "fizz\n",
            "4\n",
            "buzz\n",
            "fizz\n",
            "7\n",
            "8\n",
            "fizz\n",
            "buzz\n",
            "11\n",
            "fizz\n",
            "13\n",
            "14\n",
            "fizzbuzz\n"
          ]
        }
      ]
    },
    {
      "cell_type": "markdown",
      "source": [
        "Question 7 MatMult1"
      ],
      "metadata": {
        "id": "K0XIXFQdGeaH"
      }
    },
    {
      "cell_type": "code",
      "source": [
        "import numpy as np\n",
        "\n",
        "\n",
        "row = np.array([1, 2, 3])\n",
        "column = np.array([1, 4, 7])\n",
        "\n",
        "\n",
        "dot_product = np.dot(row, column)\n",
        "\n",
        "\n",
        "print(f\"Dot Product: {dot_product}\")"
      ],
      "metadata": {
        "colab": {
          "base_uri": "https://localhost:8080/"
        },
        "id": "4uI4g6-KGhX_",
        "outputId": "22290a34-0c81-432f-d0db-7cb8d4bd1738"
      },
      "execution_count": null,
      "outputs": [
        {
          "output_type": "stream",
          "name": "stdout",
          "text": [
            "Dot Product: 30\n"
          ]
        }
      ]
    },
    {
      "cell_type": "markdown",
      "source": [
        "Question 8 MatMult 2"
      ],
      "metadata": {
        "id": "EY1-tmwdIKx2"
      }
    },
    {
      "cell_type": "code",
      "source": [
        "import numpy as np\n",
        "\n",
        "\n",
        "row_vector = np.array([[1, 2, 3]])\n",
        "\n",
        "\n",
        "matrix = np.array([\n",
        "    [1, 2, 3],\n",
        "    [4, 5, 6],\n",
        "    [7, 8, 9]\n",
        "])\n",
        "\n",
        "\n",
        "result = np.matmul(row_vector, matrix)\n",
        "\n",
        "\n",
        "print(\"Result:\", result)"
      ],
      "metadata": {
        "colab": {
          "base_uri": "https://localhost:8080/"
        },
        "id": "HBQUIltlqq41",
        "outputId": "c22edd0a-8adc-42e4-974e-22a718f78b59"
      },
      "execution_count": null,
      "outputs": [
        {
          "output_type": "stream",
          "name": "stdout",
          "text": [
            "Result: [[30 36 42]]\n"
          ]
        }
      ]
    }
  ]
}